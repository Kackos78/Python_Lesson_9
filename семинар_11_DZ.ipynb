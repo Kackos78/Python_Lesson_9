{
  "nbformat": 4,
  "nbformat_minor": 0,
  "metadata": {
    "colab": {
      "provenance": [],
      "include_colab_link": true
    },
    "kernelspec": {
      "name": "python3",
      "display_name": "Python 3"
    },
    "language_info": {
      "name": "python"
    }
  },
  "cells": [
    {
      "cell_type": "markdown",
      "metadata": {
        "id": "view-in-github",
        "colab_type": "text"
      },
      "source": [
        "<a href=\"https://colab.research.google.com/github/Kackos78/Python_Lesson_9/blob/main/%D1%81%D0%B5%D0%BC%D0%B8%D0%BD%D0%B0%D1%80_11_DZ.ipynb\" target=\"_parent\"><img src=\"https://colab.research.google.com/assets/colab-badge.svg\" alt=\"Open In Colab\"/></a>"
      ]
    },
    {
      "cell_type": "code",
      "metadata": {
        "id": "yT-3H1-EYgQq"
      },
      "source": [
        "# Библиотека для работы с табличными данными\n",
        "import pandas as pd"
      ],
      "execution_count": 2,
      "outputs": []
    },
    {
      "cell_type": "code",
      "source": [
        "df = pd.read_csv('sample_data/california_housing_train.csv')"
      ],
      "metadata": {
        "id": "RxzvyLrmGL32"
      },
      "execution_count": 11,
      "outputs": []
    },
    {
      "cell_type": "markdown",
      "source": [
        "Задача 40\n"
      ],
      "metadata": {
        "id": "G4qfKCX6GOUS"
      }
    },
    {
      "cell_type": "code",
      "source": [
        "df[   (df['population'] > 0)    &    (df['population'] < 500)  ]['median_house_value'].mean()"
      ],
      "metadata": {
        "colab": {
          "base_uri": "https://localhost:8080/"
        },
        "id": "KrGBfSMdGGG3",
        "outputId": "ef616c46-c8ec-4f72-b0d4-fcc303ce654b"
      },
      "execution_count": 12,
      "outputs": [
        {
          "output_type": "execute_result",
          "data": {
            "text/plain": [
              "206683.83635227982"
            ]
          },
          "metadata": {},
          "execution_count": 12
        }
      ]
    },
    {
      "cell_type": "markdown",
      "source": [
        "Задача 42\n"
      ],
      "metadata": {
        "id": "8FWjLG3yGS20"
      }
    },
    {
      "cell_type": "code",
      "source": [
        "df[   (df['population'] ==  df['population'].min()) ]['households']"
      ],
      "metadata": {
        "colab": {
          "base_uri": "https://localhost:8080/"
        },
        "id": "uzBJ_snjGkhj",
        "outputId": "c3e986b0-76b8-44a7-9762-9fe18cec5aa9"
      },
      "execution_count": 35,
      "outputs": [
        {
          "output_type": "execute_result",
          "data": {
            "text/plain": [
              "8232    4.0\n",
              "Name: households, dtype: float64"
            ]
          },
          "metadata": {},
          "execution_count": 35
        }
      ]
    }
  ]
}